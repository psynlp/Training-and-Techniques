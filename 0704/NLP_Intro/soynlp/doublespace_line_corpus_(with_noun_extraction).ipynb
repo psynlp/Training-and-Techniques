{
 "cells": [
  {
   "cell_type": "markdown",
   "metadata": {},
   "source": [
    "튜토리얼 작성 당시 soynlp version 은 0.0.46 입니다."
   ]
  },
  {
   "cell_type": "code",
   "execution_count": 1,
   "metadata": {},
   "outputs": [
    {
     "name": "stdout",
     "output_type": "stream",
     "text": [
      "0.0.46\n"
     ]
    }
   ],
   "source": [
    "import sys\n",
    "sys.path.insert(0, '../')\n",
    "\n",
    "import soynlp\n",
    "print(soynlp.__version__)"
   ]
  },
  {
   "cell_type": "markdown",
   "metadata": {},
   "source": [
    "DoublespaceLineCorpus 는 텍스트 파일을 문장 별 / 문서 별로 손쉽게 읽을 수 있도록 만든 utils 입니다.\n",
    "\n",
    "한 줄은 하나의 문서를 의미하며, 하나의 문서에서의 줄 간 구분은 '\\n' 대신 두 칸 띄어쓰기 '  '로 구분합니다. 샘플 데이터는 soynlp/tutorials/doublespace_line_corpus_sample.txt 에 올려두었습니다."
   ]
  },
  {
   "cell_type": "code",
   "execution_count": 2,
   "metadata": {
    "collapsed": true
   },
   "outputs": [],
   "source": [
    "from soynlp.utils import DoublespaceLineCorpus\n",
    "\n",
    "corpus_fname = '../tutorials/doublespace_line_corpus_sample.txt'\n",
    "corpus = DoublespaceLineCorpus(corpus_fname, iter_sent=True)"
   ]
  },
  {
   "cell_type": "markdown",
   "metadata": {},
   "source": [
    "DoublespaceLineCorpus 의 iter_sent=True 를 설정하면 for loop 을 돌 때와 corpus 의 길이를 계산할 때, 문장 단위로 계산이 됩니다. 샘플 데이터에는 4065 개의 문장이 담겨있습니다."
   ]
  },
  {
   "cell_type": "code",
   "execution_count": 3,
   "metadata": {},
   "outputs": [
    {
     "name": "stdout",
     "output_type": "stream",
     "text": [
      "number of sents = 4065\n"
     ]
    }
   ],
   "source": [
    "print('number of sents = {}'.format(len(corpus)))"
   ]
  },
  {
   "cell_type": "markdown",
   "metadata": {},
   "source": [
    "만들어진 DoublespaceLineCorpus 의 iter_sent 를 False 로 변환하면 길이가 482 로 변합니다. 샘플 데이터는 482 개의 문서로 이뤄진 텍스트 파일이며, 4065 개의 문장으로 구성되어 있습니다."
   ]
  },
  {
   "cell_type": "code",
   "execution_count": 4,
   "metadata": {},
   "outputs": [
    {
     "name": "stdout",
     "output_type": "stream",
     "text": [
      "number of docs = 482\n"
     ]
    }
   ],
   "source": [
    "corpus.iter_sent = False\n",
    "print('number of docs = {}'.format(len(corpus)))"
   ]
  },
  {
   "cell_type": "markdown",
   "metadata": {},
   "source": [
    "명사, 단어 추출을 위해서 iteration 을 문장 단위로 수행합니다. 이를 위해 DoublespaceLineCorpus 의 iter_sent=True 로 설정합니다.\n",
    "\n",
    "명사 추출기의 값은 default 를 이용하였습니다. 명사 추출기에 corpus 를 입력하면 명사가 출력됩니다."
   ]
  },
  {
   "cell_type": "code",
   "execution_count": 5,
   "metadata": {},
   "outputs": [
    {
     "name": "stdout",
     "output_type": "stream",
     "text": [
      "[Noun Extractor] use default predictors\n",
      "[Noun Extractor] num features: pos=1260, neg=1173, common=12\n",
      "[Noun Extractor] counting eojeols\n",
      "[EojeolCounter] n eojeol = 17413 from 4065 sents. mem=0.080 Gb                    \n",
      "[Noun Extractor] complete eojeol counter -> lr graph\n",
      "[Noun Extractor] has been trained. mem=0.109 Gb\n",
      "[Noun Extractor] batch prediction was completed for 6782 words\n",
      "[Noun Extractor] checked compounds. discovered 242 compounds\n",
      "[Noun Extractor] postprocessing detaching_features : 2651 -> 2648\n",
      "[Noun Extractor] postprocessing ignore_features : 2648 -> 2628\n",
      "[Noun Extractor] postprocessing ignore_NJ : 2628 -> 2482\n",
      "[Noun Extractor] 2482 nouns (242 compounds) with min count=1\n",
      "[Noun Extractor] flushing was done. mem=0.120 Gb                    \n",
      "[Noun Extractor] 56.08 % eojeols are covered\n"
     ]
    }
   ],
   "source": [
    "from soynlp.noun import LRNounExtractor_v2\n",
    "\n",
    "corpus.iter_sent = True\n",
    "noun_extractor = LRNounExtractor_v2()\n",
    "nouns = noun_extractor.train_extract(corpus)"
   ]
  },
  {
   "cell_type": "markdown",
   "metadata": {},
   "source": [
    "조건을 만족하는 명사의 개수는 2482 개 입니다. 명사 추출기에서 사용자가 직접 설정할 수 있는 조건들은 noun_extractor_tutorials 를 봐주세요."
   ]
  },
  {
   "cell_type": "code",
   "execution_count": 6,
   "metadata": {},
   "outputs": [
    {
     "name": "stdout",
     "output_type": "stream",
     "text": [
      "number of nouns = 2482\n"
     ]
    }
   ],
   "source": [
    "print('number of nouns = {}'.format(len(nouns)))"
   ]
  },
  {
   "cell_type": "markdown",
   "metadata": {},
   "source": [
    "nouns 는 {str:collections.namedtuple} 형식의 dict 입니다. NounScore 라는 이름의 namedtuple 에는 frequency 와 score 가 저장되어 있습니다."
   ]
  },
  {
   "cell_type": "code",
   "execution_count": 7,
   "metadata": {},
   "outputs": [
    {
     "data": {
      "text/plain": [
       "NounScore(frequency=250, score=1.0)"
      ]
     },
     "execution_count": 7,
     "metadata": {},
     "output_type": "execute_result"
    }
   ],
   "source": [
    "nouns['아이오아이']"
   ]
  },
  {
   "cell_type": "markdown",
   "metadata": {},
   "source": [
    "길이가 2 이상이며, 빈도수 기준 상위 100 개인 명사를 살펴보면 아래와 같습니다."
   ]
  },
  {
   "cell_type": "code",
   "execution_count": 8,
   "metadata": {},
   "outputs": [
    {
     "name": "stdout",
     "output_type": "stream",
     "text": [
      "트와이스 : NounScore(frequency=655, score=1.0)\n",
      "데뷔 : NounScore(frequency=535, score=1.0)\n",
      "기자 : NounScore(frequency=535, score=1.0)\n",
      "20일 : NounScore(frequency=439, score=0.9977272727272727)\n",
      "1위 : NounScore(frequency=396, score=1.0)\n",
      "앨범 : NounScore(frequency=384, score=1.0)\n",
      "사진 : NounScore(frequency=353, score=1.0)\n",
      "방탄소년단 : NounScore(frequency=334, score=1.0)\n",
      "걸그룹 : NounScore(frequency=326, score=1.0)\n",
      "활동 : NounScore(frequency=325, score=0.9926470588235294)\n",
      "불독 : NounScore(frequency=280, score=1.0)\n",
      "팬들 : NounScore(frequency=277, score=1.0)\n",
      "기록 : NounScore(frequency=277, score=1.0)\n",
      "차트 : NounScore(frequency=274, score=1.0)\n",
      "스트리밍 : NounScore(frequency=272, score=1.0)\n",
      "컴백 : NounScore(frequency=267, score=1.0)\n",
      "뮤직비디오 : NounScore(frequency=265, score=1.0)\n",
      "방송 : NounScore(frequency=262, score=1.0)\n",
      "아이돌 : NounScore(frequency=261, score=1.0)\n",
      "출연 : NounScore(frequency=255, score=1.0)\n",
      "그룹 : NounScore(frequency=253, score=1.0)\n",
      "아이오아이 : NounScore(frequency=250, score=1.0)\n",
      "예정 : NounScore(frequency=243, score=1.0)\n",
      "공개 : NounScore(frequency=237, score=1.0)\n",
      "신화 : NounScore(frequency=237, score=1.0)\n",
      "이날 : NounScore(frequency=229, score=1.0)\n",
      "멤버 : NounScore(frequency=216, score=1.0)\n",
      "무대 : NounScore(frequency=213, score=0.9179487179487179)\n",
      "이번 : NounScore(frequency=208, score=1.0)\n",
      "올해 : NounScore(frequency=199, score=1.0)\n",
      "멤버들 : NounScore(frequency=182, score=1.0)\n",
      "한편 : NounScore(frequency=181, score=1.0)\n",
      "가온차트 : NounScore(frequency=178, score=1.0)\n",
      "모습 : NounScore(frequency=177, score=1.0)\n",
      "기대 : NounScore(frequency=175, score=1.0)\n",
      "발매 : NounScore(frequency=169, score=1.0)\n",
      "타이틀곡 : NounScore(frequency=155, score=1.0)\n",
      "전현무 : NounScore(frequency=153, score=1.0)\n",
      "매력 : NounScore(frequency=149, score=1.0)\n",
      "미니앨범 : NounScore(frequency=148, score=1.0)\n",
      "유튜브 : NounScore(frequency=145, score=1.0)\n",
      "타이틀 : NounScore(frequency=145, score=1.0)\n",
      "13집 : NounScore(frequency=141, score=1.0)\n",
      "국내 : NounScore(frequency=141, score=1.0)\n",
      "발표 : NounScore(frequency=137, score=1.0)\n",
      "영상 : NounScore(frequency=137, score=1.0)\n",
      "오후 : NounScore(frequency=136, score=1.0)\n",
      "엔터테인먼트 : NounScore(frequency=132, score=1.0)\n",
      "음악 : NounScore(frequency=132, score=1.0)\n",
      "블랙핑크 : NounScore(frequency=130, score=1.0)\n",
      "1주년 : NounScore(frequency=129, score=1.0)\n",
      "서울 : NounScore(frequency=129, score=0.8)\n",
      "예능 : NounScore(frequency=128, score=1.0)\n",
      "이들 : NounScore(frequency=127, score=1.0)\n",
      "신곡 : NounScore(frequency=127, score=1.0)\n",
      "프로그램 : NounScore(frequency=119, score=1.0)\n",
      "티저 : NounScore(frequency=119, score=1.0)\n",
      "해외 : NounScore(frequency=117, score=1.0)\n",
      "샤이니 : NounScore(frequency=113, score=0.9512195121951219)\n",
      "시작 : NounScore(frequency=113, score=1.0)\n",
      "생각 : NounScore(frequency=111, score=1.0)\n",
      "11월 : NounScore(frequency=110, score=0.9243697478991597)\n",
      "사랑 : NounScore(frequency=107, score=1.0)\n",
      "10월 : NounScore(frequency=105, score=1.0)\n",
      "관심 : NounScore(frequency=105, score=1.0)\n",
      "가수 : NounScore(frequency=104, score=0.8823529411764706)\n",
      "번째 : NounScore(frequency=104, score=1.0)\n",
      "기간 : NounScore(frequency=103, score=1.0)\n",
      "조회수 : NounScore(frequency=101, score=1.0)\n",
      "실시간 : NounScore(frequency=99, score=0.99)\n",
      "김지민 : NounScore(frequency=99, score=1.0)\n",
      "눈물 : NounScore(frequency=99, score=1.0)\n",
      "콘셉트 : NounScore(frequency=98, score=1.0)\n",
      "싱글 : NounScore(frequency=98, score=1.0)\n",
      "사람 : NounScore(frequency=96, score=1.0)\n",
      "키미 : NounScore(frequency=95, score=1.0)\n",
      "차지 : NounScore(frequency=94, score=1.0)\n",
      "부문 : NounScore(frequency=94, score=1.0)\n",
      "다양 : NounScore(frequency=93, score=1.0)\n",
      "신인 : NounScore(frequency=92, score=1.0)\n",
      "자신 : NounScore(frequency=91, score=1.0)\n",
      "형은 : NounScore(frequency=91, score=1.0)\n",
      "음원사이트 : NounScore(frequency=90, score=1.0)\n",
      "네이버 : NounScore(frequency=89, score=1.0)\n",
      "성종 : NounScore(frequency=89, score=1.0)\n",
      "펜타곤 : NounScore(frequency=88, score=1.0)\n",
      "음반 : NounScore(frequency=88, score=1.0)\n",
      "더욱 : NounScore(frequency=88, score=1.0)\n",
      "인피니트 : NounScore(frequency=87, score=1.0)\n",
      "다이아 : NounScore(frequency=87, score=0.9655172413793104)\n",
      "중국 : NounScore(frequency=86, score=0.7931034482758621)\n",
      "너무너무너무 : NounScore(frequency=85, score=1.0)\n",
      "22일 : NounScore(frequency=84, score=1.0)\n",
      "배우 : NounScore(frequency=84, score=0.8333333333333334)\n",
      "웃음 : NounScore(frequency=83, score=1.0)\n",
      "화제 : NounScore(frequency=83, score=1.0)\n",
      "쇼케이스 : NounScore(frequency=82, score=1.0)\n",
      "데뷔곡 : NounScore(frequency=82, score=1.0)\n",
      "영화 : NounScore(frequency=81, score=0.8)\n",
      "물론 : NounScore(frequency=81, score=1.0)\n"
     ]
    }
   ],
   "source": [
    "selected_nouns = [(noun, score) for noun, score in nouns.items() if len(noun) > 1]\n",
    "selected_nouns = sorted(selected_nouns, key=lambda x:-x[1].frequency)[:100]\n",
    "\n",
    "for noun, score in selected_nouns:\n",
    "    print('{} : {}'.format(noun, score))"
   ]
  },
  {
   "cell_type": "code",
   "execution_count": null,
   "metadata": {
    "collapsed": true
   },
   "outputs": [],
   "source": []
  }
 ],
 "metadata": {
  "kernelspec": {
   "display_name": "Python 3",
   "language": "python",
   "name": "python3"
  },
  "language_info": {
   "codemirror_mode": {
    "name": "ipython",
    "version": 3
   },
   "file_extension": ".py",
   "mimetype": "text/x-python",
   "name": "python",
   "nbconvert_exporter": "python",
   "pygments_lexer": "ipython3",
   "version": "3.6.2"
  }
 },
 "nbformat": 4,
 "nbformat_minor": 2
}
